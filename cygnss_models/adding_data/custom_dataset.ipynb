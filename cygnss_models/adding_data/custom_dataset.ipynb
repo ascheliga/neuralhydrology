{
 "cells": [
  {
   "cell_type": "markdown",
   "metadata": {},
   "source": [
    "# Introduction to NeuralHydrology\n",
    "\n",
    "There are two different ways to use the Python package NeuralHydrology:\n",
    "\n",
    "1. From the terminal, making use of some high-level entry points (such as `nh-run` and `nh-schedule-runs`)\n",
    "2. From any other Python file or Jupyter Notebook, using NeuralHydrology's API\n",
    "\n",
    "For every run that you start, a new folder will be created. This folder is used to store the model and optimizer checkpoints, train data means/stds (needed for scaling during inference), tensorboard log file (can be used to monitor and compare training runs visually), validation results (optionally) and training progress figures (optionally, e.g., model predictions and observations for _n_ random basins). During inference, the evaluation results will also be stored in this directory (e.g., test period results).\n",
    "\n",
    "\n",
    "### TensorBoard logging\n",
    "By default, the training progress is logged in TensorBoard files (add `log_tensorboard: False` to the config to disable TensorBoard logging).\n",
    "\n",
    "To start the TensorBoard dashboard, run:\n",
    "\n",
    "```\n",
    "tensorboard --logdir /path/to/run-dir\n",
    "```\n",
    "\n",
    "You can also visualize multiple runs at once if you point the `--logdir` to the parent directory (useful for model intercomparison)\n",
    "\n",
    "## Using NeuralHydrology from the Terminal\n",
    "\n",
    "### nh-run\n",
    "\n",
    "\n",
    "Given a run configuration file, you can use the bash command `nh-run` to train/evaluate a model. To train a model, use\n",
    "\n",
    "\n",
    "```bash\n",
    "nh-run train --config-file path/to/config.yml\n",
    "```\n",
    "\n",
    "to evaluate the model after training, use\n",
    "\n",
    "```bash\n",
    "nh-run evaluate --run-dir path/to/run-directory\n",
    "```\n",
    "\n",
    "### nh-schedule-runs\n",
    "\n",
    "If you want to train/evaluate multiple models on different GPUs, you can use the `nh-schedule-runs` command. This tool automatically distributes runs across GPUs and starts a new one, whenever one run finishes.\n",
    "\n",
    "Calling `nh-schedule-runs` in `train` mode will train one model for each `.yml` file in a directory (or its sub-directories).\n",
    "\n",
    "```bash\n",
    "nh-schedule-runs train --directory /path/to/config-dir --runs-per-gpu 2 --gpu_ids 0 1 2 3 \n",
    "```\n",
    "Use `-runs-per-gpu` to define the number of models that are simultaneously trained on a _single_ GPU (2 in this case) and `--gpu-ids` to define which GPUs will be used (numbers are ids according to nvidia-smi). In this example, 8 models will train simultaneously on 4 different GPUs.\n",
    "\n",
    "Calling `nh-schedule-runs` in `evaluate` mode will evaluate all models in all run directories in a given root directory.\n",
    "\n",
    "```bash\n",
    "nh-schedule-runs evaluate --directory /path/to/parent-run-dir/ --runs-per-gpu 2 --gpu_ids 0 1 2 3 \n",
    "```\n",
    "\n",
    "## Links\n",
    "A full list of config arguments is listed in the [documentation](https://neuralhydrology.readthedocs.io/en/latest/usage/config.html)\n",
    "\n",
    "Look at the [API Documentation](https://neuralhydrology.readthedocs.io/en/latest/api/neuralhydrology.html) for a full list of functions/classes you could use."
   ]
  },
  {
   "cell_type": "code",
   "execution_count": 11,
   "metadata": {},
   "outputs": [],
   "source": [
    "import pickle\n",
    "from pathlib import Path\n",
    "\n",
    "import matplotlib.pyplot as plt\n",
    "import torch\n",
    "from neuralhydrology.evaluation import metrics\n",
    "from neuralhydrology.nh_run import start_run, eval_run"
   ]
  },
  {
   "cell_type": "code",
   "execution_count": 12,
   "metadata": {},
   "outputs": [],
   "source": [
    "all_runs_dir = '/global/home/users/ann_scheliga/neuralhydrology/runs/'\n",
    "synth_data_dir = '/global/scratch/users/ann_scheliga/CYGNSS_daily/time_series/'"
   ]
  },
  {
   "cell_type": "markdown",
   "metadata": {},
   "source": [
    "### Train a model for a single config file"
   ]
  },
  {
   "cell_type": "code",
   "execution_count": 21,
   "metadata": {},
   "outputs": [
    {
     "name": "stdout",
     "output_type": "stream",
     "text": [
      "2025-04-21 22:23:14,025: Logging to /global/home/users/ann_scheliga/neuralhydrology/runs/notebook_two_var_only_2104_222313/output.log initialized.\n",
      "2025-04-21 22:23:14,029: ### Folder structure created at /global/home/users/ann_scheliga/neuralhydrology/runs/notebook_two_var_only_2104_222313\n",
      "2025-04-21 22:23:14,029: ### Run configurations for notebook_two_var_only\n",
      "2025-04-21 22:23:14,030: experiment_name: notebook_two_var_only\n",
      "2025-04-21 22:23:14,031: run_dir: /global/home/users/ann_scheliga/neuralhydrology/runs/notebook_two_var_only_2104_222313\n",
      "2025-04-21 22:23:14,032: train_basin_file: /global/home/users/ann_scheliga/neuralhydrology/cygnss_models/adding_data/1_basin.txt\n",
      "2025-04-21 22:23:14,032: validation_basin_file: /global/home/users/ann_scheliga/neuralhydrology/cygnss_models/adding_data/1_basin.txt\n",
      "2025-04-21 22:23:14,033: test_basin_file: /global/home/users/ann_scheliga/neuralhydrology/cygnss_models/adding_data/1_basin.txt\n",
      "2025-04-21 22:23:14,034: train_start_date: 1999-10-01 00:00:00\n",
      "2025-04-21 22:23:14,035: train_end_date: 2008-09-30 00:00:00\n",
      "2025-04-21 22:23:14,035: validation_start_date: 1980-10-01 00:00:00\n",
      "2025-04-21 22:23:14,036: validation_end_date: 1989-09-30 00:00:00\n",
      "2025-04-21 22:23:14,037: test_start_date: 1989-10-01 00:00:00\n",
      "2025-04-21 22:23:14,037: test_end_date: 1999-09-30 00:00:00\n",
      "2025-04-21 22:23:14,038: device: cpu\n",
      "2025-04-21 22:23:14,039: validate_every: 3\n",
      "2025-04-21 22:23:14,039: validate_n_random_basins: 1\n",
      "2025-04-21 22:23:14,040: metrics: ['NSE']\n",
      "2025-04-21 22:23:14,040: model: cudalstm\n",
      "2025-04-21 22:23:14,041: head: regression\n",
      "2025-04-21 22:23:14,042: output_activation: linear\n",
      "2025-04-21 22:23:14,042: hidden_size: 20\n",
      "2025-04-21 22:23:14,043: initial_forget_bias: 3\n",
      "2025-04-21 22:23:14,043: output_dropout: 0.4\n",
      "2025-04-21 22:23:14,044: optimizer: Adam\n",
      "2025-04-21 22:23:14,044: loss: MSE\n",
      "2025-04-21 22:23:14,045: learning_rate: {0: 0.01, 30: 0.005, 40: 0.001}\n",
      "2025-04-21 22:23:14,045: batch_size: 256\n",
      "2025-04-21 22:23:14,046: epochs: 50\n",
      "2025-04-21 22:23:14,046: clip_gradient_norm: 1\n",
      "2025-04-21 22:23:14,047: predict_last_n: 1\n",
      "2025-04-21 22:23:14,047: seq_length: 365\n",
      "2025-04-21 22:23:14,048: num_workers: 2\n",
      "2025-04-21 22:23:14,048: log_interval: 5\n",
      "2025-04-21 22:23:14,049: log_tensorboard: True\n",
      "2025-04-21 22:23:14,049: log_n_figures: 1\n",
      "2025-04-21 22:23:14,050: save_weights_every: 1\n",
      "2025-04-21 22:23:14,050: dataset: camels_us\n",
      "2025-04-21 22:23:14,051: data_dir: /global/home/users/ann_scheliga/neuralhydrology/data/CAMELS_US\n",
      "2025-04-21 22:23:14,051: additional_feature_files: /global/scratch/users/ann_scheliga/CYGNSS_daily/time_series/trial_df.pkl\n",
      "2025-04-21 22:23:14,052: forcings: ['nldas']\n",
      "2025-04-21 22:23:14,052: dynamic_inputs: ['PRCP(mm/day)', 'var_0']\n",
      "2025-04-21 22:23:14,053: target_variables: ['QObs(mm/d)']\n",
      "2025-04-21 22:23:14,053: clip_targets_to_zero: ['QObs(mm/d)']\n",
      "2025-04-21 22:23:14,054: number_of_basins: 1\n",
      "2025-04-21 22:23:14,054: train_dir: /global/home/users/ann_scheliga/neuralhydrology/runs/notebook_two_var_only_2104_222313/train_data\n",
      "2025-04-21 22:23:14,055: img_log_dir: /global/home/users/ann_scheliga/neuralhydrology/runs/notebook_two_var_only_2104_222313/img_log\n",
      "2025-04-21 22:23:14,056: ### Device cpu will be used for training\n",
      "2025-04-21 22:23:14,057: Loading basin data into xarray data set.\n",
      "100%|██████████| 1/1 [00:00<00:00,  9.13it/s]\n",
      "2025-04-21 22:23:14,173: Create lookup table and convert to pytorch tensor\n",
      "100%|██████████| 1/1 [00:00<00:00, 49.89it/s]\n",
      "# Epoch 1: 100%|██████████| 13/13 [00:01<00:00,  9.48it/s, Loss: 0.4799]\n",
      "2025-04-21 22:23:16,000: Epoch 1 average loss: avg_loss: 0.45600, avg_total_loss: 0.45600\n",
      "# Epoch 2: 100%|██████████| 13/13 [00:01<00:00,  9.57it/s, Loss: 0.3473]\n",
      "2025-04-21 22:23:17,433: Epoch 2 average loss: avg_loss: 0.38017, avg_total_loss: 0.38017\n",
      "# Epoch 3: 100%|██████████| 13/13 [00:01<00:00,  9.57it/s, Loss: 0.1962]\n",
      "2025-04-21 22:23:18,942: Epoch 3 average loss: avg_loss: 0.32536, avg_total_loss: 0.32536\n",
      "# Validation: 100%|██████████| 1/1 [00:01<00:00,  1.80s/it]\n",
      "2025-04-21 22:23:21,595: Epoch 3 average validation loss: 0.32455 -- Median validation metrics: avg_loss: 0.32455, NSE: 0.29742\n",
      "# Epoch 4: 100%|██████████| 13/13 [00:01<00:00,  9.47it/s, Loss: 0.2723]\n",
      "2025-04-21 22:23:22,971: Epoch 4 average loss: avg_loss: 0.27600, avg_total_loss: 0.27600\n",
      "# Epoch 5: 100%|██████████| 13/13 [00:01<00:00,  9.35it/s, Loss: 0.3150]\n",
      "2025-04-21 22:23:24,477: Epoch 5 average loss: avg_loss: 0.25421, avg_total_loss: 0.25421\n",
      "# Epoch 6: 100%|██████████| 13/13 [00:01<00:00,  9.48it/s, Loss: 0.2802]\n",
      "2025-04-21 22:23:26,133: Epoch 6 average loss: avg_loss: 0.23629, avg_total_loss: 0.23629\n",
      "# Validation: 100%|██████████| 1/1 [00:00<00:00,  1.34it/s]\n",
      "2025-04-21 22:23:27,667: Epoch 6 average validation loss: 0.31520 -- Median validation metrics: avg_loss: 0.31520, NSE: 0.31125\n",
      "# Epoch 7: 100%|██████████| 13/13 [00:01<00:00,  9.48it/s, Loss: 0.2132]\n",
      "2025-04-21 22:23:29,042: Epoch 7 average loss: avg_loss: 0.23358, avg_total_loss: 0.23358\n",
      "# Epoch 8: 100%|██████████| 13/13 [00:01<00:00,  9.58it/s, Loss: 0.2116]\n",
      "2025-04-21 22:23:30,426: Epoch 8 average loss: avg_loss: 0.22071, avg_total_loss: 0.22071\n",
      "# Epoch 9: 100%|██████████| 13/13 [00:01<00:00,  9.54it/s, Loss: 0.2499]\n",
      "2025-04-21 22:23:31,906: Epoch 9 average loss: avg_loss: 0.21072, avg_total_loss: 0.21072\n",
      "# Validation: 100%|██████████| 1/1 [00:00<00:00,  1.35it/s]\n",
      "2025-04-21 22:23:33,559: Epoch 9 average validation loss: 0.31938 -- Median validation metrics: avg_loss: 0.31938, NSE: 0.29866\n",
      "# Epoch 10: 100%|██████████| 13/13 [00:01<00:00,  9.46it/s, Loss: 0.2445]\n",
      "2025-04-21 22:23:34,937: Epoch 10 average loss: avg_loss: 0.20833, avg_total_loss: 0.20833\n",
      "# Epoch 11: 100%|██████████| 13/13 [00:01<00:00,  9.58it/s, Loss: 0.1517]\n",
      "2025-04-21 22:23:36,635: Epoch 11 average loss: avg_loss: 0.21498, avg_total_loss: 0.21498\n",
      "# Epoch 12: 100%|██████████| 13/13 [00:01<00:00,  9.49it/s, Loss: 0.1439]\n",
      "2025-04-21 22:23:38,289: Epoch 12 average loss: avg_loss: 0.20321, avg_total_loss: 0.20321\n",
      "# Validation: 100%|██████████| 1/1 [00:00<00:00,  1.35it/s]\n",
      "2025-04-21 22:23:39,659: Epoch 12 average validation loss: 0.31689 -- Median validation metrics: avg_loss: 0.31689, NSE: 0.30719\n",
      "# Epoch 13: 100%|██████████| 13/13 [00:01<00:00,  9.54it/s, Loss: 0.1537]\n",
      "2025-04-21 22:23:41,025: Epoch 13 average loss: avg_loss: 0.19362, avg_total_loss: 0.19362\n",
      "# Epoch 14: 100%|██████████| 13/13 [00:01<00:00,  9.50it/s, Loss: 0.1913]\n",
      "2025-04-21 22:23:42,465: Epoch 14 average loss: avg_loss: 0.19804, avg_total_loss: 0.19804\n",
      "# Epoch 15: 100%|██████████| 13/13 [00:01<00:00,  9.22it/s, Loss: 0.2030]\n",
      "2025-04-21 22:23:43,922: Epoch 15 average loss: avg_loss: 0.18673, avg_total_loss: 0.18673\n",
      "# Validation: 100%|██████████| 1/1 [00:00<00:00,  1.34it/s]\n",
      "2025-04-21 22:23:44,982: Epoch 15 average validation loss: 0.39992 -- Median validation metrics: avg_loss: 0.39992, NSE: 0.10054\n",
      "# Epoch 16: 100%|██████████| 13/13 [00:01<00:00,  9.52it/s, Loss: 0.1943]\n",
      "2025-04-21 22:23:46,351: Epoch 16 average loss: avg_loss: 0.17460, avg_total_loss: 0.17460\n",
      "# Epoch 17: 100%|██████████| 13/13 [00:01<00:00,  9.54it/s, Loss: 0.2296]\n",
      "2025-04-21 22:23:47,797: Epoch 17 average loss: avg_loss: 0.18710, avg_total_loss: 0.18710\n",
      "# Epoch 18: 100%|██████████| 13/13 [00:01<00:00,  9.56it/s, Loss: 0.2079]\n",
      "2025-04-21 22:23:49,359: Epoch 18 average loss: avg_loss: 0.18536, avg_total_loss: 0.18536\n",
      "# Validation: 100%|██████████| 1/1 [00:00<00:00,  1.35it/s]\n",
      "2025-04-21 22:23:50,539: Epoch 18 average validation loss: 0.40303 -- Median validation metrics: avg_loss: 0.40303, NSE: 0.09021\n",
      "# Epoch 19: 100%|██████████| 13/13 [00:01<00:00,  9.59it/s, Loss: 0.1578]\n",
      "2025-04-21 22:23:51,899: Epoch 19 average loss: avg_loss: 0.17456, avg_total_loss: 0.17456\n",
      "# Epoch 20: 100%|██████████| 13/13 [00:01<00:00,  9.44it/s, Loss: 0.1368]\n",
      "2025-04-21 22:23:53,508: Epoch 20 average loss: avg_loss: 0.17683, avg_total_loss: 0.17683\n",
      "# Epoch 21: 100%|██████████| 13/13 [00:01<00:00,  9.55it/s, Loss: 0.2756]\n",
      "2025-04-21 22:23:54,894: Epoch 21 average loss: avg_loss: 0.18487, avg_total_loss: 0.18487\n",
      "# Validation: 100%|██████████| 1/1 [00:00<00:00,  1.35it/s]\n",
      "2025-04-21 22:23:56,246: Epoch 21 average validation loss: 0.31633 -- Median validation metrics: avg_loss: 0.31633, NSE: 0.30231\n",
      "# Epoch 22: 100%|██████████| 13/13 [00:01<00:00,  9.52it/s, Loss: 0.1370]\n",
      "2025-04-21 22:23:57,615: Epoch 22 average loss: avg_loss: 0.16147, avg_total_loss: 0.16147\n",
      "# Epoch 23: 100%|██████████| 13/13 [00:01<00:00,  9.48it/s, Loss: 0.1217]\n",
      "2025-04-21 22:23:59,048: Epoch 23 average loss: avg_loss: 0.14523, avg_total_loss: 0.14523\n",
      "# Epoch 24: 100%|██████████| 13/13 [00:01<00:00,  9.47it/s, Loss: 0.0943]\n",
      "2025-04-21 22:24:00,776: Epoch 24 average loss: avg_loss: 0.14239, avg_total_loss: 0.14239\n",
      "# Validation: 100%|██████████| 1/1 [00:00<00:00,  1.35it/s]\n",
      "2025-04-21 22:24:01,926: Epoch 24 average validation loss: 0.36328 -- Median validation metrics: avg_loss: 0.36328, NSE: 0.18901\n",
      "# Epoch 25: 100%|██████████| 13/13 [00:01<00:00,  9.57it/s, Loss: 0.1021]\n",
      "2025-04-21 22:24:03,288: Epoch 25 average loss: avg_loss: 0.14910, avg_total_loss: 0.14910\n",
      "# Epoch 26: 100%|██████████| 13/13 [00:01<00:00,  9.51it/s, Loss: 0.1379]\n",
      "2025-04-21 22:24:04,671: Epoch 26 average loss: avg_loss: 0.14691, avg_total_loss: 0.14691\n",
      "# Epoch 27: 100%|██████████| 13/13 [00:01<00:00,  9.56it/s, Loss: 0.1409]\n",
      "2025-04-21 22:24:06,161: Epoch 27 average loss: avg_loss: 0.13437, avg_total_loss: 0.13437\n",
      "# Validation: 100%|██████████| 1/1 [00:00<00:00,  1.35it/s]\n",
      "2025-04-21 22:24:07,450: Epoch 27 average validation loss: 0.36179 -- Median validation metrics: avg_loss: 0.36179, NSE: 0.19823\n",
      "# Epoch 28: 100%|██████████| 13/13 [00:01<00:00,  9.56it/s, Loss: 0.1050]\n",
      "2025-04-21 22:24:08,813: Epoch 28 average loss: avg_loss: 0.12784, avg_total_loss: 0.12784\n",
      "# Epoch 29: 100%|██████████| 13/13 [00:01<00:00,  9.53it/s, Loss: 0.1183]\n",
      "2025-04-21 22:24:10,283: Epoch 29 average loss: avg_loss: 0.12986, avg_total_loss: 0.12986\n",
      "2025-04-21 22:24:10,438: Setting learning rate to 0.005\n",
      "# Epoch 30: 100%|██████████| 13/13 [00:01<00:00,  9.61it/s, Loss: 0.1206]\n",
      "2025-04-21 22:24:11,794: Epoch 30 average loss: avg_loss: 0.12789, avg_total_loss: 0.12789\n",
      "# Validation: 100%|██████████| 1/1 [00:00<00:00,  1.35it/s]\n",
      "2025-04-21 22:24:13,126: Epoch 30 average validation loss: 0.40137 -- Median validation metrics: avg_loss: 0.40137, NSE: 0.11010\n",
      "# Epoch 31: 100%|██████████| 13/13 [00:01<00:00,  9.63it/s, Loss: 0.1158]\n",
      "2025-04-21 22:24:14,480: Epoch 31 average loss: avg_loss: 0.13257, avg_total_loss: 0.13257\n",
      "# Epoch 32: 100%|██████████| 13/13 [00:01<00:00,  9.56it/s, Loss: 0.1091]\n",
      "2025-04-21 22:24:16,023: Epoch 32 average loss: avg_loss: 0.11733, avg_total_loss: 0.11733\n",
      "# Epoch 33: 100%|██████████| 13/13 [00:01<00:00,  9.59it/s, Loss: 0.1095]\n",
      "2025-04-21 22:24:17,388: Epoch 33 average loss: avg_loss: 0.12146, avg_total_loss: 0.12146\n",
      "# Validation: 100%|██████████| 1/1 [00:00<00:00,  1.35it/s]\n",
      "2025-04-21 22:24:18,826: Epoch 33 average validation loss: 0.42557 -- Median validation metrics: avg_loss: 0.42557, NSE: 0.04950\n",
      "# Epoch 34: 100%|██████████| 13/13 [00:01<00:00,  9.64it/s, Loss: 0.1465]\n",
      "2025-04-21 22:24:20,177: Epoch 34 average loss: avg_loss: 0.11611, avg_total_loss: 0.11611\n",
      "# Epoch 35: 100%|██████████| 13/13 [00:01<00:00,  9.62it/s, Loss: 0.1350]\n",
      "2025-04-21 22:24:22,124: Epoch 35 average loss: avg_loss: 0.12631, avg_total_loss: 0.12631\n",
      "# Epoch 36: 100%|██████████| 13/13 [00:01<00:00,  9.64it/s, Loss: 0.1063]\n",
      "2025-04-21 22:24:23,646: Epoch 36 average loss: avg_loss: 0.11102, avg_total_loss: 0.11102\n",
      "# Validation: 100%|██████████| 1/1 [00:00<00:00,  1.34it/s]\n",
      "2025-04-21 22:24:24,874: Epoch 36 average validation loss: 0.39525 -- Median validation metrics: avg_loss: 0.39525, NSE: 0.12634\n",
      "# Epoch 37: 100%|██████████| 13/13 [00:01<00:00,  9.59it/s, Loss: 0.1523]\n",
      "2025-04-21 22:24:26,233: Epoch 37 average loss: avg_loss: 0.11452, avg_total_loss: 0.11452\n",
      "# Epoch 38: 100%|██████████| 13/13 [00:01<00:00,  9.53it/s, Loss: 0.0803]\n",
      "2025-04-21 22:24:27,612: Epoch 38 average loss: avg_loss: 0.11891, avg_total_loss: 0.11891\n",
      "# Epoch 39: 100%|██████████| 13/13 [00:01<00:00,  9.52it/s, Loss: 0.0770]\n",
      "2025-04-21 22:24:29,296: Epoch 39 average loss: avg_loss: 0.10720, avg_total_loss: 0.10720\n",
      "# Validation: 100%|██████████| 1/1 [00:00<00:00,  1.35it/s]\n",
      "2025-04-21 22:24:30,595: Epoch 39 average validation loss: 0.40374 -- Median validation metrics: avg_loss: 0.40374, NSE: 0.10747\n",
      "2025-04-21 22:24:30,595: Setting learning rate to 0.001\n",
      "# Epoch 40: 100%|██████████| 13/13 [00:01<00:00,  9.44it/s, Loss: 0.1047]\n",
      "2025-04-21 22:24:31,975: Epoch 40 average loss: avg_loss: 0.10898, avg_total_loss: 0.10898\n",
      "# Epoch 41: 100%|██████████| 13/13 [00:01<00:00,  9.51it/s, Loss: 0.1144]\n",
      "2025-04-21 22:24:33,420: Epoch 41 average loss: avg_loss: 0.09980, avg_total_loss: 0.09980\n",
      "# Epoch 42: 100%|██████████| 13/13 [00:01<00:00,  9.54it/s, Loss: 0.1121]\n",
      "2025-04-21 22:24:34,991: Epoch 42 average loss: avg_loss: 0.10340, avg_total_loss: 0.10340\n",
      "# Validation: 100%|██████████| 1/1 [00:00<00:00,  1.35it/s]\n",
      "2025-04-21 22:24:36,219: Epoch 42 average validation loss: 0.40551 -- Median validation metrics: avg_loss: 0.40551, NSE: 0.10334\n",
      "# Epoch 43: 100%|██████████| 13/13 [00:01<00:00,  9.54it/s, Loss: 0.1153]\n",
      "2025-04-21 22:24:37,586: Epoch 43 average loss: avg_loss: 0.10361, avg_total_loss: 0.10361\n",
      "# Epoch 44: 100%|██████████| 13/13 [00:01<00:00,  9.59it/s, Loss: 0.1203]\n",
      "2025-04-21 22:24:38,975: Epoch 44 average loss: avg_loss: 0.10241, avg_total_loss: 0.10241\n",
      "# Epoch 45: 100%|██████████| 13/13 [00:01<00:00,  9.60it/s, Loss: 0.1018]\n",
      "2025-04-21 22:24:40,488: Epoch 45 average loss: avg_loss: 0.09698, avg_total_loss: 0.09698\n",
      "# Validation: 100%|██████████| 1/1 [00:00<00:00,  1.35it/s]\n",
      "2025-04-21 22:24:41,787: Epoch 45 average validation loss: 0.40930 -- Median validation metrics: avg_loss: 0.40930, NSE: 0.09080\n",
      "# Epoch 46: 100%|██████████| 13/13 [00:01<00:00,  9.59it/s, Loss: 0.1080]\n",
      "2025-04-21 22:24:43,145: Epoch 46 average loss: avg_loss: 0.10127, avg_total_loss: 0.10127\n",
      "# Epoch 47: 100%|██████████| 13/13 [00:01<00:00,  9.68it/s, Loss: 0.1728]\n",
      "2025-04-21 22:24:44,507: Epoch 47 average loss: avg_loss: 0.09802, avg_total_loss: 0.09802\n",
      "# Epoch 48: 100%|██████████| 13/13 [00:01<00:00,  9.67it/s, Loss: 0.0928]\n",
      "2025-04-21 22:24:45,875: Epoch 48 average loss: avg_loss: 0.09835, avg_total_loss: 0.09835\n",
      "# Validation: 100%|██████████| 1/1 [00:00<00:00,  1.35it/s]\n",
      "2025-04-21 22:24:47,344: Epoch 48 average validation loss: 0.41634 -- Median validation metrics: avg_loss: 0.41634, NSE: 0.07482\n",
      "# Epoch 49: 100%|██████████| 13/13 [00:01<00:00,  9.66it/s, Loss: 0.0821]\n",
      "2025-04-21 22:24:48,694: Epoch 49 average loss: avg_loss: 0.09537, avg_total_loss: 0.09537\n",
      "# Epoch 50: 100%|██████████| 13/13 [00:01<00:00,  9.77it/s, Loss: 0.1432]\n",
      "2025-04-21 22:24:50,160: Epoch 50 average loss: avg_loss: 0.10396, avg_total_loss: 0.10396\n"
     ]
    }
   ],
   "source": [
    "start_run(config_file=Path(\"custom_dataset_trial.yml\"), gpu=-1)"
   ]
  },
  {
   "cell_type": "markdown",
   "metadata": {},
   "source": [
    "### Evaluate run on test set\n",
    "Change the `run_dir` argument by grabbing from:\n",
    "1. above training output log\n",
    "2. below list of runs"
   ]
  },
  {
   "cell_type": "code",
   "execution_count": 22,
   "metadata": {},
   "outputs": [
    {
     "name": "stdout",
     "output_type": "stream",
     "text": [
      "change_to_ealstm_0404_160538\t   run_via_notebook_1804_165949\n",
      "change_to_ealstm_0404_161712\t   run_via_notebook_2104_221236\n",
      "change_to_ealstm_0404_162803\t   test_change_exp_name_0204_165321\n",
      "notebook_two_var_only_2104_222313\n"
     ]
    }
   ],
   "source": [
    "! ls /global/home/users/ann_scheliga/neuralhydrology/runs/"
   ]
  },
  {
   "cell_type": "code",
   "execution_count": 26,
   "metadata": {},
   "outputs": [
    {
     "name": "stdout",
     "output_type": "stream",
     "text": [
      "/global/home/users/ann_scheliga/neuralhydrology/runs/notebook_two_var_only_2104_222313\n",
      "2025-04-21 22:25:29,280: Using the model weights from /global/home/users/ann_scheliga/neuralhydrology/runs/notebook_two_var_only_2104_222313/model_epoch050.pt\n",
      "# Evaluation: 100%|██████████| 1/1 [00:01<00:00,  1.02s/it]\n",
      "2025-04-21 22:25:30,402: Stored metrics at /global/home/users/ann_scheliga/neuralhydrology/runs/notebook_two_var_only_2104_222313/test/model_epoch050/test_metrics.csv\n",
      "2025-04-21 22:25:30,503: Stored results at /global/home/users/ann_scheliga/neuralhydrology/runs/notebook_two_var_only_2104_222313/test/model_epoch050/test_results.p\n"
     ]
    }
   ],
   "source": [
    "run_dir = Path(all_runs_dir,\"notebook_two_var_only_2104_222313\")\n",
    "print(run_dir)\n",
    "eval_run(run_dir=run_dir, period=\"test\")"
   ]
  },
  {
   "cell_type": "markdown",
   "metadata": {},
   "source": [
    "### Load and inspect model predictions\n",
    "Next, we load the results file and compare the model predictions with observations. The results file is always a pickled dictionary with one key per basin (even for a single basin). The next-lower dictionary level is the temporal resolution of the predictions. In this case, we trained a model only on daily data ('1D'). Within the temporal resolution, the next-lower dictionary level are `xr`(an xarray Dataset that contains observations and predictions), as well as one key for each metric that was specified in the config file."
   ]
  },
  {
   "cell_type": "code",
   "execution_count": 27,
   "metadata": {},
   "outputs": [
    {
     "data": {
      "text/plain": [
       "dict_keys(['01022500'])"
      ]
     },
     "execution_count": 27,
     "metadata": {},
     "output_type": "execute_result"
    }
   ],
   "source": [
    "with open(run_dir / \"test\" / \"model_epoch050\" / \"test_results.p\", \"rb\") as fp:\n",
    "    results = pickle.load(fp)\n",
    "    \n",
    "results.keys()"
   ]
  },
  {
   "cell_type": "markdown",
   "metadata": {},
   "source": [
    "The data variables in the xarray Dataset are named according to the name of the target variables, with suffix `_obs` for the observations and suffix `_sim` for the simulations."
   ]
  },
  {
   "cell_type": "code",
   "execution_count": 28,
   "metadata": {},
   "outputs": [
    {
     "data": {
      "text/html": [
       "<div><svg style=\"position: absolute; width: 0; height: 0; overflow: hidden\">\n",
       "<defs>\n",
       "<symbol id=\"icon-database\" viewBox=\"0 0 32 32\">\n",
       "<path d=\"M16 0c-8.837 0-16 2.239-16 5v4c0 2.761 7.163 5 16 5s16-2.239 16-5v-4c0-2.761-7.163-5-16-5z\"></path>\n",
       "<path d=\"M16 17c-8.837 0-16-2.239-16-5v6c0 2.761 7.163 5 16 5s16-2.239 16-5v-6c0 2.761-7.163 5-16 5z\"></path>\n",
       "<path d=\"M16 26c-8.837 0-16-2.239-16-5v6c0 2.761 7.163 5 16 5s16-2.239 16-5v-6c0 2.761-7.163 5-16 5z\"></path>\n",
       "</symbol>\n",
       "<symbol id=\"icon-file-text2\" viewBox=\"0 0 32 32\">\n",
       "<path d=\"M28.681 7.159c-0.694-0.947-1.662-2.053-2.724-3.116s-2.169-2.030-3.116-2.724c-1.612-1.182-2.393-1.319-2.841-1.319h-15.5c-1.378 0-2.5 1.121-2.5 2.5v27c0 1.378 1.122 2.5 2.5 2.5h23c1.378 0 2.5-1.122 2.5-2.5v-19.5c0-0.448-0.137-1.23-1.319-2.841zM24.543 5.457c0.959 0.959 1.712 1.825 2.268 2.543h-4.811v-4.811c0.718 0.556 1.584 1.309 2.543 2.268zM28 29.5c0 0.271-0.229 0.5-0.5 0.5h-23c-0.271 0-0.5-0.229-0.5-0.5v-27c0-0.271 0.229-0.5 0.5-0.5 0 0 15.499-0 15.5 0v7c0 0.552 0.448 1 1 1h7v19.5z\"></path>\n",
       "<path d=\"M23 26h-14c-0.552 0-1-0.448-1-1s0.448-1 1-1h14c0.552 0 1 0.448 1 1s-0.448 1-1 1z\"></path>\n",
       "<path d=\"M23 22h-14c-0.552 0-1-0.448-1-1s0.448-1 1-1h14c0.552 0 1 0.448 1 1s-0.448 1-1 1z\"></path>\n",
       "<path d=\"M23 18h-14c-0.552 0-1-0.448-1-1s0.448-1 1-1h14c0.552 0 1 0.448 1 1s-0.448 1-1 1z\"></path>\n",
       "</symbol>\n",
       "</defs>\n",
       "</svg>\n",
       "<style>/* CSS stylesheet for displaying xarray objects in jupyterlab.\n",
       " *\n",
       " */\n",
       "\n",
       ":root {\n",
       "  --xr-font-color0: var(--jp-content-font-color0, rgba(0, 0, 0, 1));\n",
       "  --xr-font-color2: var(--jp-content-font-color2, rgba(0, 0, 0, 0.54));\n",
       "  --xr-font-color3: var(--jp-content-font-color3, rgba(0, 0, 0, 0.38));\n",
       "  --xr-border-color: var(--jp-border-color2, #e0e0e0);\n",
       "  --xr-disabled-color: var(--jp-layout-color3, #bdbdbd);\n",
       "  --xr-background-color: var(--jp-layout-color0, white);\n",
       "  --xr-background-color-row-even: var(--jp-layout-color1, white);\n",
       "  --xr-background-color-row-odd: var(--jp-layout-color2, #eeeeee);\n",
       "}\n",
       "\n",
       "html[theme=\"dark\"],\n",
       "html[data-theme=\"dark\"],\n",
       "body[data-theme=\"dark\"],\n",
       "body.vscode-dark {\n",
       "  --xr-font-color0: rgba(255, 255, 255, 1);\n",
       "  --xr-font-color2: rgba(255, 255, 255, 0.54);\n",
       "  --xr-font-color3: rgba(255, 255, 255, 0.38);\n",
       "  --xr-border-color: #1f1f1f;\n",
       "  --xr-disabled-color: #515151;\n",
       "  --xr-background-color: #111111;\n",
       "  --xr-background-color-row-even: #111111;\n",
       "  --xr-background-color-row-odd: #313131;\n",
       "}\n",
       "\n",
       ".xr-wrap {\n",
       "  display: block !important;\n",
       "  min-width: 300px;\n",
       "  max-width: 700px;\n",
       "}\n",
       "\n",
       ".xr-text-repr-fallback {\n",
       "  /* fallback to plain text repr when CSS is not injected (untrusted notebook) */\n",
       "  display: none;\n",
       "}\n",
       "\n",
       ".xr-header {\n",
       "  padding-top: 6px;\n",
       "  padding-bottom: 6px;\n",
       "  margin-bottom: 4px;\n",
       "  border-bottom: solid 1px var(--xr-border-color);\n",
       "}\n",
       "\n",
       ".xr-header > div,\n",
       ".xr-header > ul {\n",
       "  display: inline;\n",
       "  margin-top: 0;\n",
       "  margin-bottom: 0;\n",
       "}\n",
       "\n",
       ".xr-obj-type,\n",
       ".xr-array-name {\n",
       "  margin-left: 2px;\n",
       "  margin-right: 10px;\n",
       "}\n",
       "\n",
       ".xr-obj-type {\n",
       "  color: var(--xr-font-color2);\n",
       "}\n",
       "\n",
       ".xr-sections {\n",
       "  padding-left: 0 !important;\n",
       "  display: grid;\n",
       "  grid-template-columns: 150px auto auto 1fr 0 20px 0 20px;\n",
       "}\n",
       "\n",
       ".xr-section-item {\n",
       "  display: contents;\n",
       "}\n",
       "\n",
       ".xr-section-item input {\n",
       "  display: inline-block;\n",
       "  opacity: 0;\n",
       "  height: 0;\n",
       "}\n",
       "\n",
       ".xr-section-item input + label {\n",
       "  color: var(--xr-disabled-color);\n",
       "}\n",
       "\n",
       ".xr-section-item input:enabled + label {\n",
       "  cursor: pointer;\n",
       "  color: var(--xr-font-color2);\n",
       "}\n",
       "\n",
       ".xr-section-item input:focus + label {\n",
       "  border: 2px solid var(--xr-font-color0);\n",
       "}\n",
       "\n",
       ".xr-section-item input:enabled + label:hover {\n",
       "  color: var(--xr-font-color0);\n",
       "}\n",
       "\n",
       ".xr-section-summary {\n",
       "  grid-column: 1;\n",
       "  color: var(--xr-font-color2);\n",
       "  font-weight: 500;\n",
       "}\n",
       "\n",
       ".xr-section-summary > span {\n",
       "  display: inline-block;\n",
       "  padding-left: 0.5em;\n",
       "}\n",
       "\n",
       ".xr-section-summary-in:disabled + label {\n",
       "  color: var(--xr-font-color2);\n",
       "}\n",
       "\n",
       ".xr-section-summary-in + label:before {\n",
       "  display: inline-block;\n",
       "  content: \"►\";\n",
       "  font-size: 11px;\n",
       "  width: 15px;\n",
       "  text-align: center;\n",
       "}\n",
       "\n",
       ".xr-section-summary-in:disabled + label:before {\n",
       "  color: var(--xr-disabled-color);\n",
       "}\n",
       "\n",
       ".xr-section-summary-in:checked + label:before {\n",
       "  content: \"▼\";\n",
       "}\n",
       "\n",
       ".xr-section-summary-in:checked + label > span {\n",
       "  display: none;\n",
       "}\n",
       "\n",
       ".xr-section-summary,\n",
       ".xr-section-inline-details {\n",
       "  padding-top: 4px;\n",
       "  padding-bottom: 4px;\n",
       "}\n",
       "\n",
       ".xr-section-inline-details {\n",
       "  grid-column: 2 / -1;\n",
       "}\n",
       "\n",
       ".xr-section-details {\n",
       "  display: none;\n",
       "  grid-column: 1 / -1;\n",
       "  margin-bottom: 5px;\n",
       "}\n",
       "\n",
       ".xr-section-summary-in:checked ~ .xr-section-details {\n",
       "  display: contents;\n",
       "}\n",
       "\n",
       ".xr-array-wrap {\n",
       "  grid-column: 1 / -1;\n",
       "  display: grid;\n",
       "  grid-template-columns: 20px auto;\n",
       "}\n",
       "\n",
       ".xr-array-wrap > label {\n",
       "  grid-column: 1;\n",
       "  vertical-align: top;\n",
       "}\n",
       "\n",
       ".xr-preview {\n",
       "  color: var(--xr-font-color3);\n",
       "}\n",
       "\n",
       ".xr-array-preview,\n",
       ".xr-array-data {\n",
       "  padding: 0 5px !important;\n",
       "  grid-column: 2;\n",
       "}\n",
       "\n",
       ".xr-array-data,\n",
       ".xr-array-in:checked ~ .xr-array-preview {\n",
       "  display: none;\n",
       "}\n",
       "\n",
       ".xr-array-in:checked ~ .xr-array-data,\n",
       ".xr-array-preview {\n",
       "  display: inline-block;\n",
       "}\n",
       "\n",
       ".xr-dim-list {\n",
       "  display: inline-block !important;\n",
       "  list-style: none;\n",
       "  padding: 0 !important;\n",
       "  margin: 0;\n",
       "}\n",
       "\n",
       ".xr-dim-list li {\n",
       "  display: inline-block;\n",
       "  padding: 0;\n",
       "  margin: 0;\n",
       "}\n",
       "\n",
       ".xr-dim-list:before {\n",
       "  content: \"(\";\n",
       "}\n",
       "\n",
       ".xr-dim-list:after {\n",
       "  content: \")\";\n",
       "}\n",
       "\n",
       ".xr-dim-list li:not(:last-child):after {\n",
       "  content: \",\";\n",
       "  padding-right: 5px;\n",
       "}\n",
       "\n",
       ".xr-has-index {\n",
       "  font-weight: bold;\n",
       "}\n",
       "\n",
       ".xr-var-list,\n",
       ".xr-var-item {\n",
       "  display: contents;\n",
       "}\n",
       "\n",
       ".xr-var-item > div,\n",
       ".xr-var-item label,\n",
       ".xr-var-item > .xr-var-name span {\n",
       "  background-color: var(--xr-background-color-row-even);\n",
       "  margin-bottom: 0;\n",
       "}\n",
       "\n",
       ".xr-var-item > .xr-var-name:hover span {\n",
       "  padding-right: 5px;\n",
       "}\n",
       "\n",
       ".xr-var-list > li:nth-child(odd) > div,\n",
       ".xr-var-list > li:nth-child(odd) > label,\n",
       ".xr-var-list > li:nth-child(odd) > .xr-var-name span {\n",
       "  background-color: var(--xr-background-color-row-odd);\n",
       "}\n",
       "\n",
       ".xr-var-name {\n",
       "  grid-column: 1;\n",
       "}\n",
       "\n",
       ".xr-var-dims {\n",
       "  grid-column: 2;\n",
       "}\n",
       "\n",
       ".xr-var-dtype {\n",
       "  grid-column: 3;\n",
       "  text-align: right;\n",
       "  color: var(--xr-font-color2);\n",
       "}\n",
       "\n",
       ".xr-var-preview {\n",
       "  grid-column: 4;\n",
       "}\n",
       "\n",
       ".xr-index-preview {\n",
       "  grid-column: 2 / 5;\n",
       "  color: var(--xr-font-color2);\n",
       "}\n",
       "\n",
       ".xr-var-name,\n",
       ".xr-var-dims,\n",
       ".xr-var-dtype,\n",
       ".xr-preview,\n",
       ".xr-attrs dt {\n",
       "  white-space: nowrap;\n",
       "  overflow: hidden;\n",
       "  text-overflow: ellipsis;\n",
       "  padding-right: 10px;\n",
       "}\n",
       "\n",
       ".xr-var-name:hover,\n",
       ".xr-var-dims:hover,\n",
       ".xr-var-dtype:hover,\n",
       ".xr-attrs dt:hover {\n",
       "  overflow: visible;\n",
       "  width: auto;\n",
       "  z-index: 1;\n",
       "}\n",
       "\n",
       ".xr-var-attrs,\n",
       ".xr-var-data,\n",
       ".xr-index-data {\n",
       "  display: none;\n",
       "  background-color: var(--xr-background-color) !important;\n",
       "  padding-bottom: 5px !important;\n",
       "}\n",
       "\n",
       ".xr-var-attrs-in:checked ~ .xr-var-attrs,\n",
       ".xr-var-data-in:checked ~ .xr-var-data,\n",
       ".xr-index-data-in:checked ~ .xr-index-data {\n",
       "  display: block;\n",
       "}\n",
       "\n",
       ".xr-var-data > table {\n",
       "  float: right;\n",
       "}\n",
       "\n",
       ".xr-var-name span,\n",
       ".xr-var-data,\n",
       ".xr-index-name div,\n",
       ".xr-index-data,\n",
       ".xr-attrs {\n",
       "  padding-left: 25px !important;\n",
       "}\n",
       "\n",
       ".xr-attrs,\n",
       ".xr-var-attrs,\n",
       ".xr-var-data,\n",
       ".xr-index-data {\n",
       "  grid-column: 1 / -1;\n",
       "}\n",
       "\n",
       "dl.xr-attrs {\n",
       "  padding: 0;\n",
       "  margin: 0;\n",
       "  display: grid;\n",
       "  grid-template-columns: 125px auto;\n",
       "}\n",
       "\n",
       ".xr-attrs dt,\n",
       ".xr-attrs dd {\n",
       "  padding: 0;\n",
       "  margin: 0;\n",
       "  float: left;\n",
       "  padding-right: 10px;\n",
       "  width: auto;\n",
       "}\n",
       "\n",
       ".xr-attrs dt {\n",
       "  font-weight: normal;\n",
       "  grid-column: 1;\n",
       "}\n",
       "\n",
       ".xr-attrs dt:hover span {\n",
       "  display: inline-block;\n",
       "  background: var(--xr-background-color);\n",
       "  padding-right: 10px;\n",
       "}\n",
       "\n",
       ".xr-attrs dd {\n",
       "  grid-column: 2;\n",
       "  white-space: pre-wrap;\n",
       "  word-break: break-all;\n",
       "}\n",
       "\n",
       ".xr-icon-database,\n",
       ".xr-icon-file-text2,\n",
       ".xr-no-icon {\n",
       "  display: inline-block;\n",
       "  vertical-align: middle;\n",
       "  width: 1em;\n",
       "  height: 1.5em !important;\n",
       "  stroke-width: 0;\n",
       "  stroke: currentColor;\n",
       "  fill: currentColor;\n",
       "}\n",
       "</style><pre class='xr-text-repr-fallback'>&lt;xarray.Dataset&gt; Size: 58kB\n",
       "Dimensions:         (date: 3652, time_step: 1)\n",
       "Coordinates:\n",
       "  * date            (date) datetime64[ns] 29kB 1989-10-01 ... 1999-09-30\n",
       "  * time_step       (time_step) int64 8B 0\n",
       "Data variables:\n",
       "    QObs(mm/d)_obs  (date, time_step) float32 15kB 0.6203 0.5537 ... 0.9992\n",
       "    QObs(mm/d)_sim  (date, time_step) float32 15kB 1.673 1.586 ... 2.824 2.421</pre><div class='xr-wrap' style='display:none'><div class='xr-header'><div class='xr-obj-type'>xarray.Dataset</div></div><ul class='xr-sections'><li class='xr-section-item'><input id='section-e7688ca4-1de3-48a2-8768-c9cd1651cdbc' class='xr-section-summary-in' type='checkbox' disabled ><label for='section-e7688ca4-1de3-48a2-8768-c9cd1651cdbc' class='xr-section-summary'  title='Expand/collapse section'>Dimensions:</label><div class='xr-section-inline-details'><ul class='xr-dim-list'><li><span class='xr-has-index'>date</span>: 3652</li><li><span class='xr-has-index'>time_step</span>: 1</li></ul></div><div class='xr-section-details'></div></li><li class='xr-section-item'><input id='section-f9cc83ef-5eea-4ff9-b6fa-d8c0080faca7' class='xr-section-summary-in' type='checkbox'  checked><label for='section-f9cc83ef-5eea-4ff9-b6fa-d8c0080faca7' class='xr-section-summary' >Coordinates: <span>(2)</span></label><div class='xr-section-inline-details'></div><div class='xr-section-details'><ul class='xr-var-list'><li class='xr-var-item'><div class='xr-var-name'><span class='xr-has-index'>date</span></div><div class='xr-var-dims'>(date)</div><div class='xr-var-dtype'>datetime64[ns]</div><div class='xr-var-preview xr-preview'>1989-10-01 ... 1999-09-30</div><input id='attrs-ec371649-02a3-4341-9353-05459bdbeb00' class='xr-var-attrs-in' type='checkbox' disabled><label for='attrs-ec371649-02a3-4341-9353-05459bdbeb00' title='Show/Hide attributes'><svg class='icon xr-icon-file-text2'><use xlink:href='#icon-file-text2'></use></svg></label><input id='data-84343a3e-39e0-4baf-9ab6-5b82d5aaf4d9' class='xr-var-data-in' type='checkbox'><label for='data-84343a3e-39e0-4baf-9ab6-5b82d5aaf4d9' title='Show/Hide data repr'><svg class='icon xr-icon-database'><use xlink:href='#icon-database'></use></svg></label><div class='xr-var-attrs'><dl class='xr-attrs'></dl></div><div class='xr-var-data'><pre>array([&#x27;1989-10-01T00:00:00.000000000&#x27;, &#x27;1989-10-02T00:00:00.000000000&#x27;,\n",
       "       &#x27;1989-10-03T00:00:00.000000000&#x27;, ..., &#x27;1999-09-28T00:00:00.000000000&#x27;,\n",
       "       &#x27;1999-09-29T00:00:00.000000000&#x27;, &#x27;1999-09-30T00:00:00.000000000&#x27;],\n",
       "      dtype=&#x27;datetime64[ns]&#x27;)</pre></div></li><li class='xr-var-item'><div class='xr-var-name'><span class='xr-has-index'>time_step</span></div><div class='xr-var-dims'>(time_step)</div><div class='xr-var-dtype'>int64</div><div class='xr-var-preview xr-preview'>0</div><input id='attrs-a5eab2dd-fcb7-429b-a0bd-ccfe7f782bdb' class='xr-var-attrs-in' type='checkbox' disabled><label for='attrs-a5eab2dd-fcb7-429b-a0bd-ccfe7f782bdb' title='Show/Hide attributes'><svg class='icon xr-icon-file-text2'><use xlink:href='#icon-file-text2'></use></svg></label><input id='data-ec98f6fd-3008-4672-8f78-119abbe46911' class='xr-var-data-in' type='checkbox'><label for='data-ec98f6fd-3008-4672-8f78-119abbe46911' title='Show/Hide data repr'><svg class='icon xr-icon-database'><use xlink:href='#icon-database'></use></svg></label><div class='xr-var-attrs'><dl class='xr-attrs'></dl></div><div class='xr-var-data'><pre>array([0])</pre></div></li></ul></div></li><li class='xr-section-item'><input id='section-a073d7d9-fbc9-402e-92fc-5bacbe7b8ea7' class='xr-section-summary-in' type='checkbox'  checked><label for='section-a073d7d9-fbc9-402e-92fc-5bacbe7b8ea7' class='xr-section-summary' >Data variables: <span>(2)</span></label><div class='xr-section-inline-details'></div><div class='xr-section-details'><ul class='xr-var-list'><li class='xr-var-item'><div class='xr-var-name'><span>QObs(mm/d)_obs</span></div><div class='xr-var-dims'>(date, time_step)</div><div class='xr-var-dtype'>float32</div><div class='xr-var-preview xr-preview'>0.6203 0.5537 ... 1.182 0.9992</div><input id='attrs-7173a176-cfe9-4f5e-9475-6afdc5c09dfb' class='xr-var-attrs-in' type='checkbox' disabled><label for='attrs-7173a176-cfe9-4f5e-9475-6afdc5c09dfb' title='Show/Hide attributes'><svg class='icon xr-icon-file-text2'><use xlink:href='#icon-file-text2'></use></svg></label><input id='data-722a3c26-91b0-4df4-bc39-55ff3d28ce68' class='xr-var-data-in' type='checkbox'><label for='data-722a3c26-91b0-4df4-bc39-55ff3d28ce68' title='Show/Hide data repr'><svg class='icon xr-icon-database'><use xlink:href='#icon-database'></use></svg></label><div class='xr-var-attrs'><dl class='xr-attrs'></dl></div><div class='xr-var-data'><pre>array([[0.62030745],\n",
       "       [0.5536971 ],\n",
       "       [0.7118964 ],\n",
       "       ...,\n",
       "       [1.4529347 ],\n",
       "       [1.1823308 ],\n",
       "       [0.9991529 ]], dtype=float32)</pre></div></li><li class='xr-var-item'><div class='xr-var-name'><span>QObs(mm/d)_sim</span></div><div class='xr-var-dims'>(date, time_step)</div><div class='xr-var-dtype'>float32</div><div class='xr-var-preview xr-preview'>1.673 1.586 2.068 ... 2.824 2.421</div><input id='attrs-5256f670-0916-41bb-be24-baf286105677' class='xr-var-attrs-in' type='checkbox' disabled><label for='attrs-5256f670-0916-41bb-be24-baf286105677' title='Show/Hide attributes'><svg class='icon xr-icon-file-text2'><use xlink:href='#icon-file-text2'></use></svg></label><input id='data-74716d84-4bce-4fdf-8bcc-22f63cd36032' class='xr-var-data-in' type='checkbox'><label for='data-74716d84-4bce-4fdf-8bcc-22f63cd36032' title='Show/Hide data repr'><svg class='icon xr-icon-database'><use xlink:href='#icon-database'></use></svg></label><div class='xr-var-attrs'><dl class='xr-attrs'></dl></div><div class='xr-var-data'><pre>array([[1.6732856],\n",
       "       [1.5855453],\n",
       "       [2.0677886],\n",
       "       ...,\n",
       "       [3.407299 ],\n",
       "       [2.8244226],\n",
       "       [2.4208596]], dtype=float32)</pre></div></li></ul></div></li><li class='xr-section-item'><input id='section-07bf340c-bd95-4491-a5fb-a8e218f3f527' class='xr-section-summary-in' type='checkbox'  ><label for='section-07bf340c-bd95-4491-a5fb-a8e218f3f527' class='xr-section-summary' >Indexes: <span>(2)</span></label><div class='xr-section-inline-details'></div><div class='xr-section-details'><ul class='xr-var-list'><li class='xr-var-item'><div class='xr-index-name'><div>date</div></div><div class='xr-index-preview'>PandasIndex</div><input type='checkbox' disabled/><label></label><input id='index-bcdbb965-9880-4977-8d5b-84b2838dfde6' class='xr-index-data-in' type='checkbox'/><label for='index-bcdbb965-9880-4977-8d5b-84b2838dfde6' title='Show/Hide index repr'><svg class='icon xr-icon-database'><use xlink:href='#icon-database'></use></svg></label><div class='xr-index-data'><pre>PandasIndex(DatetimeIndex([&#x27;1989-10-01&#x27;, &#x27;1989-10-02&#x27;, &#x27;1989-10-03&#x27;, &#x27;1989-10-04&#x27;,\n",
       "               &#x27;1989-10-05&#x27;, &#x27;1989-10-06&#x27;, &#x27;1989-10-07&#x27;, &#x27;1989-10-08&#x27;,\n",
       "               &#x27;1989-10-09&#x27;, &#x27;1989-10-10&#x27;,\n",
       "               ...\n",
       "               &#x27;1999-09-21&#x27;, &#x27;1999-09-22&#x27;, &#x27;1999-09-23&#x27;, &#x27;1999-09-24&#x27;,\n",
       "               &#x27;1999-09-25&#x27;, &#x27;1999-09-26&#x27;, &#x27;1999-09-27&#x27;, &#x27;1999-09-28&#x27;,\n",
       "               &#x27;1999-09-29&#x27;, &#x27;1999-09-30&#x27;],\n",
       "              dtype=&#x27;datetime64[ns]&#x27;, name=&#x27;date&#x27;, length=3652, freq=None))</pre></div></li><li class='xr-var-item'><div class='xr-index-name'><div>time_step</div></div><div class='xr-index-preview'>PandasIndex</div><input type='checkbox' disabled/><label></label><input id='index-7fa5d785-e728-43e3-90f0-ab5da2b840c3' class='xr-index-data-in' type='checkbox'/><label for='index-7fa5d785-e728-43e3-90f0-ab5da2b840c3' title='Show/Hide index repr'><svg class='icon xr-icon-database'><use xlink:href='#icon-database'></use></svg></label><div class='xr-index-data'><pre>PandasIndex(Index([0], dtype=&#x27;int64&#x27;, name=&#x27;time_step&#x27;))</pre></div></li></ul></div></li><li class='xr-section-item'><input id='section-11e6d1e1-4d0c-437b-9284-25c843068b8c' class='xr-section-summary-in' type='checkbox' disabled ><label for='section-11e6d1e1-4d0c-437b-9284-25c843068b8c' class='xr-section-summary'  title='Expand/collapse section'>Attributes: <span>(0)</span></label><div class='xr-section-inline-details'></div><div class='xr-section-details'><dl class='xr-attrs'></dl></div></li></ul></div></div>"
      ],
      "text/plain": [
       "<xarray.Dataset> Size: 58kB\n",
       "Dimensions:         (date: 3652, time_step: 1)\n",
       "Coordinates:\n",
       "  * date            (date) datetime64[ns] 29kB 1989-10-01 ... 1999-09-30\n",
       "  * time_step       (time_step) int64 8B 0\n",
       "Data variables:\n",
       "    QObs(mm/d)_obs  (date, time_step) float32 15kB 0.6203 0.5537 ... 0.9992\n",
       "    QObs(mm/d)_sim  (date, time_step) float32 15kB 1.673 1.586 ... 2.824 2.421"
      ]
     },
     "execution_count": 28,
     "metadata": {},
     "output_type": "execute_result"
    }
   ],
   "source": [
    "results['01022500']['1D']['xr']"
   ]
  },
  {
   "cell_type": "markdown",
   "metadata": {},
   "source": [
    "Let's plot the model predictions vs. the observations"
   ]
  },
  {
   "cell_type": "code",
   "execution_count": 29,
   "metadata": {},
   "outputs": [
    {
     "data": {
      "text/plain": [
       "Text(0.5, 1.0, 'Test period - NSE -0.057')"
      ]
     },
     "execution_count": 29,
     "metadata": {},
     "output_type": "execute_result"
    },
    {
     "data": {
      "image/png": "[encoded data removed]",
      "text/plain": [
       "<Figure size 1600x1000 with 1 Axes>"
      ]
     },
     "metadata": {},
     "output_type": "display_data"
    }
   ],
   "source": [
    "# extract observations and simulations\n",
    "qobs = results['01022500']['1D']['xr']['QObs(mm/d)_obs']\n",
    "qsim = results['01022500']['1D']['xr']['QObs(mm/d)_sim']\n",
    "\n",
    "fig, ax = plt.subplots(figsize=(16,10))\n",
    "ax.plot(qobs['date'], qobs, c='k',label='obs')\n",
    "ax.plot(qsim['date'], qsim, c='b',label='sim')\n",
    "ax.set_ylabel(\"Discharge (mm/d)\")\n",
    "ax.set_title(f\"Test period - NSE {results['01022500']['1D']['NSE']:.3f}\")"
   ]
  },
  {
   "cell_type": "markdown",
   "metadata": {},
   "source": [
    "Next, we are going to compute all metrics that are implemented in the NeuralHydrology package. You will find additional hydrological signatures implemented in `neuralhydrology.evaluation.signatures`."
   ]
  },
  {
   "cell_type": "code",
   "execution_count": 30,
   "metadata": {},
   "outputs": [
    {
     "name": "stdout",
     "output_type": "stream",
     "text": [
      "NSE: -0.057\n",
      "MSE: 5.204\n",
      "RMSE: 2.281\n",
      "KGE: 0.404\n",
      "Alpha-NSE: 0.924\n",
      "Beta-KGE: 1.223\n",
      "Beta-NSE: 0.202\n",
      "Pearson-r: 0.453\n",
      "FHV: -0.720\n",
      "FMS: -28.327\n",
      "FLV: -22.861\n",
      "Peak-Timing: 0.217\n",
      "Peak-MAPE: 57.126\n"
     ]
    }
   ],
   "source": [
    "values = metrics.calculate_all_metrics(qobs.isel(time_step=-1), qsim.isel(time_step=-1))\n",
    "for key, val in values.items():\n",
    "    print(f\"{key}: {val:.3f}\")"
   ]
  },
  {
   "cell_type": "markdown",
   "metadata": {
    "jp-MarkdownHeadingCollapsed": true
   },
   "source": [
    "## Create placeholder data file"
   ]
  },
  {
   "cell_type": "code",
   "execution_count": 5,
   "metadata": {},
   "outputs": [],
   "source": [
    "import xarray as xr\n",
    "import datetime\n",
    "import numpy as np\n",
    "import pandas as pd"
   ]
  },
  {
   "cell_type": "code",
   "execution_count": 6,
   "metadata": {},
   "outputs": [],
   "source": [
    "start_date = datetime.datetime(year=1980,month=10,day=1)\n",
    "stop_date = datetime.datetime(year=2008,month=9,day=30)\n",
    "date_idx = pd.date_range(start=start_date, end = stop_date)\n",
    "t_n = len(date_idx)"
   ]
  },
  {
   "cell_type": "markdown",
   "metadata": {
    "jp-MarkdownHeadingCollapsed": true
   },
   "source": [
    "### Create fake .nc DataArray file"
   ]
  },
  {
   "cell_type": "code",
   "execution_count": 8,
   "metadata": {},
   "outputs": [],
   "source": [
    "data = np.random.rand(t_n)"
   ]
  },
  {
   "cell_type": "code",
   "execution_count": 32,
   "metadata": {},
   "outputs": [],
   "source": [
    "da = xr.DataArray(data=data,\n",
    "            dims=[\"date\"],\n",
    "            coords=[date_idx],\n",
    "            attrs=dict(\n",
    "                description=\"A single variable.\",\n",
    "                units=\"None\",\n",
    "            ))"
   ]
  },
  {
   "cell_type": "code",
   "execution_count": 34,
   "metadata": {},
   "outputs": [],
   "source": [
    "da.to_netcdf(synth_data_dir+'01022500.nc')"
   ]
  },
  {
   "cell_type": "markdown",
   "metadata": {},
   "source": [
    "### Create fake .nc Dataset file"
   ]
  },
  {
   "cell_type": "code",
   "execution_count": 7,
   "metadata": {},
   "outputs": [],
   "source": [
    "data = np.random.rand(t_n,2)"
   ]
  },
  {
   "cell_type": "code",
   "execution_count": 8,
   "metadata": {
    "scrolled": true
   },
   "outputs": [],
   "source": [
    "ds = xr.Dataset({'var_0':('date',data[:,0]),'var_1':('date',data[:,1])},\n",
    "           coords={'date':date_idx},\n",
    "           attrs=dict(\n",
    "                description=\"TWO variables.\",\n",
    "                units=\"Still none\",\n",
    "            ))"
   ]
  },
  {
   "cell_type": "code",
   "execution_count": 29,
   "metadata": {},
   "outputs": [],
   "source": [
    "example_dict = {'01022500': ds}\n",
    "pickle.dump(example_dict, open(synth_data_dir+'trial_ds.pkl', 'wb'))"
   ]
  },
  {
   "cell_type": "code",
   "execution_count": 10,
   "metadata": {},
   "outputs": [],
   "source": [
    "df_from_ds = ds.to_dataframe()"
   ]
  },
  {
   "cell_type": "code",
   "execution_count": 13,
   "metadata": {},
   "outputs": [],
   "source": [
    "example_dict = {'01022500': df_from_ds}\n",
    "pickle.dump(example_dict, open(synth_data_dir+'trial_df.pkl', 'wb'))"
   ]
  },
  {
   "cell_type": "markdown",
   "metadata": {},
   "source": [
    "### Create fake pandas dataframe\n",
    "Path to a pickle file (or list of paths for multiple files), containing a dictionary with each key corresponding to one basin id and the value is a date-time indexed pandas DataFrame."
   ]
  },
  {
   "cell_type": "code",
   "execution_count": 10,
   "metadata": {},
   "outputs": [],
   "source": [
    "data = np.random.rand(t_n,5)"
   ]
  },
  {
   "cell_type": "code",
   "execution_count": 11,
   "metadata": {},
   "outputs": [],
   "source": [
    "df = pd.DataFrame(data, index= date_idx)\n",
    "df = df.add_prefix('var_',axis=1) # gives a string name to each var\n",
    "# df['date'] = df.index"
   ]
  },
  {
   "cell_type": "code",
   "execution_count": 12,
   "metadata": {},
   "outputs": [],
   "source": [
    "df.index.name = 'date'"
   ]
  },
  {
   "cell_type": "code",
   "execution_count": 13,
   "metadata": {},
   "outputs": [],
   "source": [
    "example_dict = {'01022500': df}\n",
    "pickle.dump(example_dict, open(synth_data_dir+'trial.pkl', 'wb'))"
   ]
  },
  {
   "cell_type": "code",
   "execution_count": 4,
   "metadata": {},
   "outputs": [],
   "source": [
    "pck_read = pickle.load(open(synth_data_dir+'trial.pkl', 'rb'))"
   ]
  },
  {
   "cell_type": "code",
   "execution_count": 6,
   "metadata": {},
   "outputs": [
    {
     "data": {
      "text/plain": [
       "<pandas.core.groupby.generic.DataFrameGroupBy object at 0x14da1b435c90>"
      ]
     },
     "execution_count": 6,
     "metadata": {},
     "output_type": "execute_result"
    }
   ],
   "source": [
    "pck_read['01022500'].groupby('date')"
   ]
  },
  {
   "cell_type": "code",
   "execution_count": 16,
   "metadata": {},
   "outputs": [
    {
     "data": {
      "text/plain": [
       "<pandas.core.groupby.generic.DataFrameGroupBy object at 0x14da1b47e920>"
      ]
     },
     "execution_count": 16,
     "metadata": {},
     "output_type": "execute_result"
    }
   ],
   "source": [
    "df[df.index.duplicated(keep=False)]"
   ]
  }
 ],
 "metadata": {
  "kernelspec": {
   "display_name": "neuralhydrology",
   "language": "python",
   "name": "neuralhydrology"
  },
  "language_info": {
   "codemirror_mode": {
    "name": "ipython",
    "version": 3
   },
   "file_extension": ".py",
   "mimetype": "text/x-python",
   "name": "python",
   "nbconvert_exporter": "python",
   "pygments_lexer": "ipython3",
   "version": "3.10.16"
  }
 },
 "nbformat": 4,
 "nbformat_minor": 4
}
